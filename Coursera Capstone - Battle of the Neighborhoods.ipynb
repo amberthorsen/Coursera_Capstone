{
    "cells": [
        {
            "cell_type": "markdown",
            "metadata": {},
            "source": "# Coursera Capstone"
        },
        {
            "cell_type": "markdown",
            "metadata": {},
            "source": "### Battle of the Neighborhoods"
        },
        {
            "cell_type": "markdown",
            "metadata": {},
            "source": "This notebook will be used for the coursera capstone project"
        },
        {
            "cell_type": "markdown",
            "metadata": {},
            "source": "###### Load all needed libraries"
        },
        {
            "cell_type": "code",
            "execution_count": 2,
            "metadata": {},
            "outputs": [
                {
                    "name": "stdout",
                    "output_type": "stream",
                    "text": "Hello Capstone Project Course!\n"
                }
            ],
            "source": "import pandas as pd\nimport numpy as np\nprint(\"Hello Capstone Project Course!\")"
        },
        {
            "cell_type": "markdown",
            "metadata": {},
            "source": "### Introduction"
        },
        {
            "cell_type": "markdown",
            "metadata": {},
            "source": "A recent trend in real estate has been the emergence of co-working spaces for entrepreneurs or individuals working from home or on 1099 contracts.  Lockdowns due to COVID 19 has resulted in announcements of companies moving to full time remote workforces.  While city-dwelling families may be opting to move to the suburbs and set up home offices there, this option may not look as attractive to single remote working employees.  A solution for these individuals may be a co-working and co-living space.  This concept gained strength in San Francisco and is expanding elsewhere, as demonstrated by the emergence of companies such as Roam Coliving. \n\nFor a real estate investor looking to capitalize on the accelerated shift to remote work, investing in a co-working and co-living property could be lucrative.  As with all other real estate, the golden rule and primary driver of value will be location.  The target market for these properties would be remote working single young professionals, 1099 workers, or entrepreneurs looking to gain the social benefits that an office setting offers.  For these individuals, a location that offers amenities and ease of access will certainly be more attractive. \n\nIn this project I will explore Chicago neighborhoods and evaluate their potential as locations for co-working and co-living rental properties.  Chicago is a city with a population of 2.7 million people and is located on the shores of Lake Michigan in the MidWest.  The city hosts the nation\u2019s third largest airport with a central location that makes it easy to travel for work or personal reasons if needed.  Business and professional services as well as technology are two of the city\u2019s six largest industries, and both rank well nationally.  The city is well positioned for co-working spaces, as demonstrated by the forecast for these spaces to triple by 2023 before the on-set of COVID-19. \n\nTo this end, this project will explore neighborhoods in Chicago for purposes of recommending the top 5 neighborhoods for hosting property as a co-working and co-living space. "
        }
    ],
    "metadata": {
        "kernelspec": {
            "display_name": "Python 3.7",
            "language": "python",
            "name": "python3"
        },
        "language_info": {
            "codemirror_mode": {
                "name": "ipython",
                "version": 3
            },
            "file_extension": ".py",
            "mimetype": "text/x-python",
            "name": "python",
            "nbconvert_exporter": "python",
            "pygments_lexer": "ipython3",
            "version": "3.7.9"
        }
    },
    "nbformat": 4,
    "nbformat_minor": 1
}