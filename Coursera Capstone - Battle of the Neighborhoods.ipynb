{
    "cells": [
        {
            "cell_type": "markdown",
            "metadata": {},
            "source": "# Coursera Capstone"
        },
        {
            "cell_type": "markdown",
            "metadata": {},
            "source": "### Battle of the Neighborhoods"
        },
        {
            "cell_type": "markdown",
            "metadata": {},
            "source": "This notebook will be used for the coursera capstone project"
        },
        {
            "cell_type": "markdown",
            "metadata": {},
            "source": "###### Load all needed libraries"
        },
        {
            "cell_type": "code",
            "execution_count": 2,
            "metadata": {},
            "outputs": [
                {
                    "name": "stdout",
                    "output_type": "stream",
                    "text": "Hello Capstone Project Course!\n"
                }
            ],
            "source": "import pandas as pd\nimport numpy as np\nprint(\"Hello Capstone Project Course!\")"
        },
        {
            "cell_type": "markdown",
            "metadata": {},
            "source": "### Introduction"
        },
        {
            "cell_type": "markdown",
            "metadata": {},
            "source": "##### Background"
        },
        {
            "cell_type": "markdown",
            "metadata": {},
            "source": "A recent trend in real estate has been the emergence of co-working spaces for entrepreneurs or individuals working from home or on 1099 contracts.  These spaces provide a break from the isolation of home-offices, and fertile ground for sharing ideas and developing collaborative professional or even social relationships.  Lockdowns due to COVID 19 has resulted in announcements of more companies moving to full time remote workforces.  While many city-dwelling families are choosing to move to the suburbs and set up home offices there, this option may not look as attractive to single remote working individuals who value the social benefits that an office setting provides.  A solution for these individuals may be to set up residence in a co-working and co-living space.  This concept gained strength in San Francisco and is expanding elsewhere, as demonstrated by the emergence of companies such as [Roam Coliving](https://www.roam.co/). \n\nChicago is a city with a population of 2.7 million people and is located on the shores of Lake Michigan in the MidWest.  The city hosts the nation\u2019s [third largest airport](https://www.world-airport-codes.com/us-top-40-airports.html) with a central location relative to other U.S. cities.  This makes it easy to travel for work or personal reasons if needed.  Business and professional services as well as technology are two of the city\u2019s [six largest industries](http://www.worldbusinesschicago.com/key-industries/), and both rank well nationally.  The city is well positioned for co-working spaces, as demonstrated by the [forecast for these spaces to triple by 2023](https://www.chicagobusiness.com/commercial-real-estate/chicago-co-working-space-nearly-triple-2023-forecast) before the on-set of COVID-19.     "
        },
        {
            "cell_type": "markdown",
            "metadata": {},
            "source": "##### Problem"
        },
        {
            "cell_type": "markdown",
            "metadata": {},
            "source": "For a real estate investor looking to capitalize on the accelerated shift to remote work, investing in a co-working and co-living property could be lucrative.  As with all other real estate, the golden rule and primary driver of value will be location.  Purchasing a property in the wrong neighborhood would result in high vacancy rates and disappointing cash flow.  The target market for these properties would be remote working single young professionals, 1099 workers, or entrepreneurs looking to gain the social benefits that an office setting offers.  For these individuals, a location that offers attractive amenities and ease of access would be important.  Considering this, I will explore Chicago neighborhoods and evaluate their potential as locations for co-working and co-living rental properties.   \n\nIn order to evaluate and cluster neighborhoods, I will look to understand the convenience factor using the following considerations: \n\n- Grocery stores:  prospective residents of co-working and co-living spaces will need convenient access to shop for food.  As such, access to grocery stores will be an important factor in evaluating neighborhoods. \n\n- Other venues: prospective residents will look to enjoy amenities that their neighborhood has to offer.  They may want to connect over happy hour or meet friends and family for food or drinks.  If they have a pet or enjoy outdoor recreation, access to parks would also be attractive.  Considering this, local parks, cafes, bars, and restaurants is another important factor.   \n\n- Walkability:  many city dwellers do not have a car, and Chicago\u2019s robust public transportation network makes it viable to live without one.  For this reason, walkability is an important factor in choosing a neighborhood for co-working and co-living space.  To accommodate this, proximity to grocery stores and other venues mentioned above needs to consider walkability. \n\n- Transportation stations and hubs:  while prospective renters may enjoy exploring the local neighborhood on foot, they likely also want to access other parts of the city.  As a result, the final consideration for prioritizing neighborhoods will be proximity to transportation stations and hubs. "
        },
        {
            "cell_type": "markdown",
            "metadata": {},
            "source": "##### Interest"
        },
        {
            "cell_type": "markdown",
            "metadata": {},
            "source": "Real estate investors looking to acquire properties in Chicago for the purpose of renting it as a co-working and co-living space would be very interested in seeing recommended neighborhoods based on this study.\u00a0 Individuals looking to rent a room in a co-working and co-living property might also be interested."
        }
    ],
    "metadata": {
        "kernelspec": {
            "display_name": "Python 3.7",
            "language": "python",
            "name": "python3"
        },
        "language_info": {
            "codemirror_mode": {
                "name": "ipython",
                "version": 3
            },
            "file_extension": ".py",
            "mimetype": "text/x-python",
            "name": "python",
            "nbconvert_exporter": "python",
            "pygments_lexer": "ipython3",
            "version": "3.7.9"
        }
    },
    "nbformat": 4,
    "nbformat_minor": 1
}